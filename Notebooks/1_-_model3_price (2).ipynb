{
 "cells": [
  {
   "cell_type": "code",
   "execution_count": 1,
   "metadata": {},
   "outputs": [],
   "source": [
    "# Import\n",
    "import pandas as pd\n",
    "import numpy as np \n",
    "from sklearn.model_selection import train_test_split\n",
    "from sklearn.preprocessing import StandardScaler, OneHotEncoder, LabelEncoder\n",
    "from sklearn.compose import ColumnTransformer\n",
    "import seaborn as sns\n",
    "import matplotlib.pyplot as plt\n",
    "from joblib import dump\n",
    "import os\n",
    "from sklearn.metrics import r2_score\n",
    "from sklearn.ensemble import RandomForestRegressor\n",
    "#from sklearn.linear_model import LinearRegression"
   ]
  },
  {
   "cell_type": "code",
   "execution_count": 26,
   "metadata": {},
   "outputs": [
    {
     "data": {
      "text/html": [
       "<div>\n",
       "<style scoped>\n",
       "    .dataframe tbody tr th:only-of-type {\n",
       "        vertical-align: middle;\n",
       "    }\n",
       "\n",
       "    .dataframe tbody tr th {\n",
       "        vertical-align: top;\n",
       "    }\n",
       "\n",
       "    .dataframe thead th {\n",
       "        text-align: right;\n",
       "    }\n",
       "</style>\n",
       "<table border=\"1\" class=\"dataframe\">\n",
       "  <thead>\n",
       "    <tr style=\"text-align: right;\">\n",
       "      <th></th>\n",
       "      <th>Unnamed: 0</th>\n",
       "      <th>points</th>\n",
       "      <th>price</th>\n",
       "      <th>province</th>\n",
       "      <th>variety</th>\n",
       "      <th>sweet</th>\n",
       "      <th>acidity</th>\n",
       "      <th>body</th>\n",
       "      <th>tannin</th>\n",
       "      <th>abv</th>\n",
       "      <th>...</th>\n",
       "      <th>wound</th>\n",
       "      <th>wrap</th>\n",
       "      <th>year</th>\n",
       "      <th>yellow</th>\n",
       "      <th>young</th>\n",
       "      <th>youthful</th>\n",
       "      <th>zest</th>\n",
       "      <th>zesty</th>\n",
       "      <th>zin</th>\n",
       "      <th>zinfandel</th>\n",
       "    </tr>\n",
       "  </thead>\n",
       "  <tbody>\n",
       "    <tr>\n",
       "      <th>0</th>\n",
       "      <td>0</td>\n",
       "      <td>87</td>\n",
       "      <td>14.0</td>\n",
       "      <td>Oregon</td>\n",
       "      <td>Pinot Gris</td>\n",
       "      <td>1.56</td>\n",
       "      <td>3.5</td>\n",
       "      <td>2.96</td>\n",
       "      <td>1.0</td>\n",
       "      <td>13.02</td>\n",
       "      <td>...</td>\n",
       "      <td>0.0</td>\n",
       "      <td>0.000000</td>\n",
       "      <td>0.0</td>\n",
       "      <td>0.0</td>\n",
       "      <td>0.0</td>\n",
       "      <td>0.0</td>\n",
       "      <td>0.0</td>\n",
       "      <td>0.0</td>\n",
       "      <td>0.0</td>\n",
       "      <td>0.0</td>\n",
       "    </tr>\n",
       "    <tr>\n",
       "      <th>1</th>\n",
       "      <td>1</td>\n",
       "      <td>87</td>\n",
       "      <td>27.0</td>\n",
       "      <td>Alsace</td>\n",
       "      <td>Pinot Gris</td>\n",
       "      <td>1.56</td>\n",
       "      <td>3.5</td>\n",
       "      <td>2.96</td>\n",
       "      <td>1.0</td>\n",
       "      <td>13.02</td>\n",
       "      <td>...</td>\n",
       "      <td>0.0</td>\n",
       "      <td>0.000000</td>\n",
       "      <td>0.0</td>\n",
       "      <td>0.0</td>\n",
       "      <td>0.0</td>\n",
       "      <td>0.0</td>\n",
       "      <td>0.0</td>\n",
       "      <td>0.0</td>\n",
       "      <td>0.0</td>\n",
       "      <td>0.0</td>\n",
       "    </tr>\n",
       "    <tr>\n",
       "      <th>2</th>\n",
       "      <td>2</td>\n",
       "      <td>88</td>\n",
       "      <td>18.0</td>\n",
       "      <td>California</td>\n",
       "      <td>Pinot Gris</td>\n",
       "      <td>1.56</td>\n",
       "      <td>3.5</td>\n",
       "      <td>2.96</td>\n",
       "      <td>1.0</td>\n",
       "      <td>13.02</td>\n",
       "      <td>...</td>\n",
       "      <td>0.0</td>\n",
       "      <td>0.311638</td>\n",
       "      <td>0.0</td>\n",
       "      <td>0.0</td>\n",
       "      <td>0.0</td>\n",
       "      <td>0.0</td>\n",
       "      <td>0.0</td>\n",
       "      <td>0.0</td>\n",
       "      <td>0.0</td>\n",
       "      <td>0.0</td>\n",
       "    </tr>\n",
       "    <tr>\n",
       "      <th>3</th>\n",
       "      <td>3</td>\n",
       "      <td>88</td>\n",
       "      <td>18.0</td>\n",
       "      <td>New York</td>\n",
       "      <td>Pinot Gris</td>\n",
       "      <td>1.56</td>\n",
       "      <td>3.5</td>\n",
       "      <td>2.96</td>\n",
       "      <td>1.0</td>\n",
       "      <td>13.02</td>\n",
       "      <td>...</td>\n",
       "      <td>0.0</td>\n",
       "      <td>0.000000</td>\n",
       "      <td>0.0</td>\n",
       "      <td>0.0</td>\n",
       "      <td>0.0</td>\n",
       "      <td>0.0</td>\n",
       "      <td>0.0</td>\n",
       "      <td>0.0</td>\n",
       "      <td>0.0</td>\n",
       "      <td>0.0</td>\n",
       "    </tr>\n",
       "    <tr>\n",
       "      <th>4</th>\n",
       "      <td>4</td>\n",
       "      <td>90</td>\n",
       "      <td>112.0</td>\n",
       "      <td>Alsace</td>\n",
       "      <td>Pinot Gris</td>\n",
       "      <td>1.56</td>\n",
       "      <td>3.5</td>\n",
       "      <td>2.96</td>\n",
       "      <td>1.0</td>\n",
       "      <td>13.02</td>\n",
       "      <td>...</td>\n",
       "      <td>0.0</td>\n",
       "      <td>0.000000</td>\n",
       "      <td>0.0</td>\n",
       "      <td>0.0</td>\n",
       "      <td>0.0</td>\n",
       "      <td>0.0</td>\n",
       "      <td>0.0</td>\n",
       "      <td>0.0</td>\n",
       "      <td>0.0</td>\n",
       "      <td>0.0</td>\n",
       "    </tr>\n",
       "  </tbody>\n",
       "</table>\n",
       "<p>5 rows × 589 columns</p>\n",
       "</div>"
      ],
      "text/plain": [
       "   Unnamed: 0  points  price    province     variety  sweet  acidity  body  \\\n",
       "0           0      87   14.0      Oregon  Pinot Gris   1.56      3.5  2.96   \n",
       "1           1      87   27.0      Alsace  Pinot Gris   1.56      3.5  2.96   \n",
       "2           2      88   18.0  California  Pinot Gris   1.56      3.5  2.96   \n",
       "3           3      88   18.0    New York  Pinot Gris   1.56      3.5  2.96   \n",
       "4           4      90  112.0      Alsace  Pinot Gris   1.56      3.5  2.96   \n",
       "\n",
       "   tannin    abv  ... wound      wrap  year  yellow  young  youthful  zest  \\\n",
       "0     1.0  13.02  ...   0.0  0.000000   0.0     0.0    0.0       0.0   0.0   \n",
       "1     1.0  13.02  ...   0.0  0.000000   0.0     0.0    0.0       0.0   0.0   \n",
       "2     1.0  13.02  ...   0.0  0.311638   0.0     0.0    0.0       0.0   0.0   \n",
       "3     1.0  13.02  ...   0.0  0.000000   0.0     0.0    0.0       0.0   0.0   \n",
       "4     1.0  13.02  ...   0.0  0.000000   0.0     0.0    0.0       0.0   0.0   \n",
       "\n",
       "   zesty  zin  zinfandel  \n",
       "0    0.0  0.0        0.0  \n",
       "1    0.0  0.0        0.0  \n",
       "2    0.0  0.0        0.0  \n",
       "3    0.0  0.0        0.0  \n",
       "4    0.0  0.0        0.0  \n",
       "\n",
       "[5 rows x 589 columns]"
      ]
     },
     "execution_count": 26,
     "metadata": {},
     "output_type": "execute_result"
    }
   ],
   "source": [
    "df = pd.read_csv('/Users/antoinebertin/Documents/jedha/project/wine_final.csv')\n",
    "df.head()"
   ]
  },
  {
   "cell_type": "code",
   "execution_count": 27,
   "metadata": {},
   "outputs": [
    {
     "data": {
      "text/plain": [
       "0        ['steel', 'rind', 'ferment', 'dominate', 'pine...\n",
       "1          ['depth', 'great', 'balanced', 'pear', 'touch']\n",
       "2        ['straightforward', 'wrap', 'grow', 'variety',...\n",
       "3               ['nut', 'appeal', 'pair', 'bold', 'smoke']\n",
       "4        ['honey', 'sweet', 'succulent', 'note', 'beaut...\n",
       "                               ...                        \n",
       "64005    ['tannic', 'chocolaty', 'extract', 'hot', 'lack']\n",
       "64006       ['chunky', 'low', 'raisin', 'prune', 'nuance']\n",
       "64007    ['pleasing', 'succulent', 'sense', 'elegance',...\n",
       "64008         ['everyday', 'heavy', 'bake', 'bit', 'feel']\n",
       "64009         ['citrusy', 'sharp', 'way', 'little', 'bit']\n",
       "Name: relevant_words, Length: 64010, dtype: object"
      ]
     },
     "execution_count": 27,
     "metadata": {},
     "output_type": "execute_result"
    }
   ],
   "source": [
    "df['relevant_words']"
   ]
  },
  {
   "cell_type": "code",
   "execution_count": 3,
   "metadata": {},
   "outputs": [],
   "source": [
    "features_list = [\"points\", \"province\", \"variety\"]\n",
    "X = df.loc[:,features_list]\n",
    "y = df.loc[:,\"price\"]"
   ]
  },
  {
   "cell_type": "code",
   "execution_count": 4,
   "metadata": {},
   "outputs": [],
   "source": [
    "X_train, X_test, y_train, y_test = train_test_split(X, y, test_size=0.2, random_state=0, shuffle=True)"
   ]
  },
  {
   "cell_type": "code",
   "execution_count": 5,
   "metadata": {},
   "outputs": [
    {
     "data": {
      "text/html": [
       "<div>\n",
       "<style scoped>\n",
       "    .dataframe tbody tr th:only-of-type {\n",
       "        vertical-align: middle;\n",
       "    }\n",
       "\n",
       "    .dataframe tbody tr th {\n",
       "        vertical-align: top;\n",
       "    }\n",
       "\n",
       "    .dataframe thead th {\n",
       "        text-align: right;\n",
       "    }\n",
       "</style>\n",
       "<table border=\"1\" class=\"dataframe\">\n",
       "  <thead>\n",
       "    <tr style=\"text-align: right;\">\n",
       "      <th></th>\n",
       "      <th>points</th>\n",
       "      <th>province</th>\n",
       "      <th>variety</th>\n",
       "    </tr>\n",
       "  </thead>\n",
       "  <tbody>\n",
       "    <tr>\n",
       "      <th>64695</th>\n",
       "      <td>84</td>\n",
       "      <td>California</td>\n",
       "      <td>Chardonnay</td>\n",
       "    </tr>\n",
       "    <tr>\n",
       "      <th>90552</th>\n",
       "      <td>90</td>\n",
       "      <td>France Other</td>\n",
       "      <td>Rosé</td>\n",
       "    </tr>\n",
       "    <tr>\n",
       "      <th>28324</th>\n",
       "      <td>88</td>\n",
       "      <td>New York</td>\n",
       "      <td>Rosé</td>\n",
       "    </tr>\n",
       "    <tr>\n",
       "      <th>3724</th>\n",
       "      <td>87</td>\n",
       "      <td>Casablanca Valley</td>\n",
       "      <td>Gewürztraminer</td>\n",
       "    </tr>\n",
       "    <tr>\n",
       "      <th>66271</th>\n",
       "      <td>89</td>\n",
       "      <td>Provence</td>\n",
       "      <td>Rosé</td>\n",
       "    </tr>\n",
       "  </tbody>\n",
       "</table>\n",
       "</div>"
      ],
      "text/plain": [
       "       points           province         variety\n",
       "64695      84         California      Chardonnay\n",
       "90552      90       France Other            Rosé\n",
       "28324      88           New York            Rosé\n",
       "3724       87  Casablanca Valley  Gewürztraminer\n",
       "66271      89           Provence            Rosé"
      ]
     },
     "execution_count": 5,
     "metadata": {},
     "output_type": "execute_result"
    }
   ],
   "source": [
    "X_train.head()"
   ]
  },
  {
   "cell_type": "code",
   "execution_count": 6,
   "metadata": {},
   "outputs": [],
   "source": [
    "#Numeric features and transformer\n",
    "numeric_features = [0]  \n",
    "numeric_transformer = StandardScaler()\n",
    "\n",
    "#Categorical features and transformers\n",
    "categorical_features = [1, 2] \n",
    "\n",
    "categorical_transformer = OneHotEncoder(drop='first')\n",
    "\n",
    "#ColumnTransformer with mixed types\n",
    "feature_encoder = ColumnTransformer(\n",
    "    transformers=[\n",
    "        ('num', numeric_transformer, numeric_features),\n",
    "        ('cat', categorical_transformer, categorical_features)\n",
    "    ]\n",
    ")"
   ]
  },
  {
   "cell_type": "code",
   "execution_count": 7,
   "metadata": {},
   "outputs": [],
   "source": [
    "X_train = feature_encoder.fit_transform(X_train)\n",
    "X_test = feature_encoder.transform(X_test)"
   ]
  },
  {
   "cell_type": "code",
   "execution_count": 8,
   "metadata": {},
   "outputs": [
    {
     "data": {
      "text/html": [
       "<style>#sk-container-id-1 {color: black;}#sk-container-id-1 pre{padding: 0;}#sk-container-id-1 div.sk-toggleable {background-color: white;}#sk-container-id-1 label.sk-toggleable__label {cursor: pointer;display: block;width: 100%;margin-bottom: 0;padding: 0.3em;box-sizing: border-box;text-align: center;}#sk-container-id-1 label.sk-toggleable__label-arrow:before {content: \"▸\";float: left;margin-right: 0.25em;color: #696969;}#sk-container-id-1 label.sk-toggleable__label-arrow:hover:before {color: black;}#sk-container-id-1 div.sk-estimator:hover label.sk-toggleable__label-arrow:before {color: black;}#sk-container-id-1 div.sk-toggleable__content {max-height: 0;max-width: 0;overflow: hidden;text-align: left;background-color: #f0f8ff;}#sk-container-id-1 div.sk-toggleable__content pre {margin: 0.2em;color: black;border-radius: 0.25em;background-color: #f0f8ff;}#sk-container-id-1 input.sk-toggleable__control:checked~div.sk-toggleable__content {max-height: 200px;max-width: 100%;overflow: auto;}#sk-container-id-1 input.sk-toggleable__control:checked~label.sk-toggleable__label-arrow:before {content: \"▾\";}#sk-container-id-1 div.sk-estimator input.sk-toggleable__control:checked~label.sk-toggleable__label {background-color: #d4ebff;}#sk-container-id-1 div.sk-label input.sk-toggleable__control:checked~label.sk-toggleable__label {background-color: #d4ebff;}#sk-container-id-1 input.sk-hidden--visually {border: 0;clip: rect(1px 1px 1px 1px);clip: rect(1px, 1px, 1px, 1px);height: 1px;margin: -1px;overflow: hidden;padding: 0;position: absolute;width: 1px;}#sk-container-id-1 div.sk-estimator {font-family: monospace;background-color: #f0f8ff;border: 1px dotted black;border-radius: 0.25em;box-sizing: border-box;margin-bottom: 0.5em;}#sk-container-id-1 div.sk-estimator:hover {background-color: #d4ebff;}#sk-container-id-1 div.sk-parallel-item::after {content: \"\";width: 100%;border-bottom: 1px solid gray;flex-grow: 1;}#sk-container-id-1 div.sk-label:hover label.sk-toggleable__label {background-color: #d4ebff;}#sk-container-id-1 div.sk-serial::before {content: \"\";position: absolute;border-left: 1px solid gray;box-sizing: border-box;top: 0;bottom: 0;left: 50%;z-index: 0;}#sk-container-id-1 div.sk-serial {display: flex;flex-direction: column;align-items: center;background-color: white;padding-right: 0.2em;padding-left: 0.2em;position: relative;}#sk-container-id-1 div.sk-item {position: relative;z-index: 1;}#sk-container-id-1 div.sk-parallel {display: flex;align-items: stretch;justify-content: center;background-color: white;position: relative;}#sk-container-id-1 div.sk-item::before, #sk-container-id-1 div.sk-parallel-item::before {content: \"\";position: absolute;border-left: 1px solid gray;box-sizing: border-box;top: 0;bottom: 0;left: 50%;z-index: -1;}#sk-container-id-1 div.sk-parallel-item {display: flex;flex-direction: column;z-index: 1;position: relative;background-color: white;}#sk-container-id-1 div.sk-parallel-item:first-child::after {align-self: flex-end;width: 50%;}#sk-container-id-1 div.sk-parallel-item:last-child::after {align-self: flex-start;width: 50%;}#sk-container-id-1 div.sk-parallel-item:only-child::after {width: 0;}#sk-container-id-1 div.sk-dashed-wrapped {border: 1px dashed gray;margin: 0 0.4em 0.5em 0.4em;box-sizing: border-box;padding-bottom: 0.4em;background-color: white;}#sk-container-id-1 div.sk-label label {font-family: monospace;font-weight: bold;display: inline-block;line-height: 1.2em;}#sk-container-id-1 div.sk-label-container {text-align: center;}#sk-container-id-1 div.sk-container {/* jupyter's `normalize.less` sets `[hidden] { display: none; }` but bootstrap.min.css set `[hidden] { display: none !important; }` so we also need the `!important` here to be able to override the default hidden behavior on the sphinx rendered scikit-learn.org. See: https://github.com/scikit-learn/scikit-learn/issues/21755 */display: inline-block !important;position: relative;}#sk-container-id-1 div.sk-text-repr-fallback {display: none;}</style><div id=\"sk-container-id-1\" class=\"sk-top-container\"><div class=\"sk-text-repr-fallback\"><pre>RandomForestRegressor()</pre><b>In a Jupyter environment, please rerun this cell to show the HTML representation or trust the notebook. <br />On GitHub, the HTML representation is unable to render, please try loading this page with nbviewer.org.</b></div><div class=\"sk-container\" hidden><div class=\"sk-item\"><div class=\"sk-estimator sk-toggleable\"><input class=\"sk-toggleable__control sk-hidden--visually\" id=\"sk-estimator-id-1\" type=\"checkbox\" checked><label for=\"sk-estimator-id-1\" class=\"sk-toggleable__label sk-toggleable__label-arrow\">RandomForestRegressor</label><div class=\"sk-toggleable__content\"><pre>RandomForestRegressor()</pre></div></div></div></div></div>"
      ],
      "text/plain": [
       "RandomForestRegressor()"
      ]
     },
     "execution_count": 8,
     "metadata": {},
     "output_type": "execute_result"
    }
   ],
   "source": [
    "rfc = RandomForestRegressor()\n",
    "#rfc = LinearRegression()\n",
    "rfc.fit(X_train, y_train)"
   ]
  },
  {
   "cell_type": "code",
   "execution_count": 9,
   "metadata": {},
   "outputs": [
    {
     "data": {
      "text/plain": [
       "0.4616193014947543"
      ]
     },
     "execution_count": 9,
     "metadata": {},
     "output_type": "execute_result"
    }
   ],
   "source": [
    "rfc.score(X_train, y_train)"
   ]
  },
  {
   "cell_type": "code",
   "execution_count": 10,
   "metadata": {},
   "outputs": [
    {
     "data": {
      "text/plain": [
       "0.4457851321315689"
      ]
     },
     "execution_count": 10,
     "metadata": {},
     "output_type": "execute_result"
    }
   ],
   "source": [
    "rfc.score(X_test, y_test)"
   ]
  },
  {
   "cell_type": "markdown",
   "metadata": {},
   "source": [
    "# Model perf"
   ]
  },
  {
   "cell_type": "code",
   "execution_count": 11,
   "metadata": {},
   "outputs": [],
   "source": [
    "y_test_pred = rfc.predict(X_test)"
   ]
  },
  {
   "cell_type": "code",
   "execution_count": 12,
   "metadata": {},
   "outputs": [
    {
     "data": {
      "image/png": "[encoded data removed]",
      "text/plain": [
       "<Figure size 640x480 with 1 Axes>"
      ]
     },
     "metadata": {},
     "output_type": "display_data"
    }
   ],
   "source": [
    "# Assuming you have your actual values 'y_test' and predicted values 'y_pred'\n",
    "plt.scatter(y_test, y_test_pred, color='blue')\n",
    "plt.title('Predicted vs. Actual Values')\n",
    "plt.xlabel('Actual Values')\n",
    "plt.ylabel('Predicted Values')\n",
    "\n",
    "# Plotting a diagonal line for reference\n",
    "plt.plot([y_test.min(), y_test.max()], [y_test.min(), y_test.max()], color='red', linestyle='--')\n",
    "\n",
    "plt.show()"
   ]
  },
  {
   "cell_type": "code",
   "execution_count": 21,
   "metadata": {},
   "outputs": [
    {
     "data": {
      "text/plain": [
       "<bound method DataFrame.sort_values of   feature_names  aggregated_coefficients\n",
       "0      province                 0.013968\n",
       "1       variety                 0.002547\n",
       "2        points                 0.000195>"
      ]
     },
     "execution_count": 21,
     "metadata": {},
     "output_type": "execute_result"
    }
   ],
   "source": [
    "# Assuming 'regressor.coef_' is a 1D array and the order of coefficients matches 'all_column_names'\n",
    "\n",
    "# Coefficients for each set of categorical features\n",
    "province_coef_mean = np.mean(rfc.feature_importances_[:len(feature_encoder.transformers_[1][1].categories_[0])])\n",
    "variety_coef_mean = np.mean(rfc.feature_importances_[len(feature_encoder.transformers_[1][1].categories_[0]):-1])\n",
    "\n",
    "# Coefficient for the numerical feature\n",
    "points_coef = rfc.feature_importances_[-1]\n",
    "\n",
    "# Create a simplified DataFrame for feature importance\n",
    "simplified_feature_importance = pd.DataFrame({\n",
    "    \"feature_names\": ['province', 'variety', 'points'],\n",
    "    \"aggregated_coefficients\": [province_coef_mean, variety_coef_mean, points_coef]\n",
    "})\n",
    "\n",
    "#simplified_feature_importance\n",
    "simplified_feature_importance.sort_values"
   ]
  },
  {
   "cell_type": "code",
   "execution_count": 22,
   "metadata": {},
   "outputs": [
    {
     "data": {
      "image/png": "[encoded data removed]",
      "text/plain": [
       "<Figure size 1000x500 with 1 Axes>"
      ]
     },
     "metadata": {},
     "output_type": "display_data"
    }
   ],
   "source": [
    "# Assuming feature_importance is your DataFrame from the previous step\n",
    "plt.figure(figsize=(10, 5))  # Adjust the size as needed\n",
    "\n",
    "# Sort the DataFrame by coefficients to see the most important features\n",
    "feature_importance_sorted = simplified_feature_importance.sort_values(by='aggregated_coefficients', ascending=False)\n",
    "\n",
    "# Create a barplot\n",
    "sns.barplot(x='feature_names', y='aggregated_coefficients', data=feature_importance_sorted)\n",
    "\n",
    "# Highlight the 'points' feature\n",
    "#plt.axhline(y=feature_importance_sorted.index[feature_importance_sorted['feature_names'] == 'points'][0], color='red', linestyle='--')\n",
    "\n",
    "plt.title('Feature Importances in Regression Model')\n",
    "plt.xlabel('Coefficient Magnitude')\n",
    "plt.ylabel('Features')\n",
    "plt.show()"
   ]
  },
  {
   "cell_type": "markdown",
   "metadata": {},
   "source": [
    "# TEST"
   ]
  },
  {
   "cell_type": "code",
   "execution_count": 23,
   "metadata": {},
   "outputs": [
    {
     "data": {
      "text/html": [
       "<div>\n",
       "<style scoped>\n",
       "    .dataframe tbody tr th:only-of-type {\n",
       "        vertical-align: middle;\n",
       "    }\n",
       "\n",
       "    .dataframe tbody tr th {\n",
       "        vertical-align: top;\n",
       "    }\n",
       "\n",
       "    .dataframe thead th {\n",
       "        text-align: right;\n",
       "    }\n",
       "</style>\n",
       "<table border=\"1\" class=\"dataframe\">\n",
       "  <thead>\n",
       "    <tr style=\"text-align: right;\">\n",
       "      <th></th>\n",
       "      <th>description</th>\n",
       "      <th>points</th>\n",
       "      <th>price</th>\n",
       "      <th>province</th>\n",
       "      <th>variety</th>\n",
       "    </tr>\n",
       "  </thead>\n",
       "  <tbody>\n",
       "    <tr>\n",
       "      <th>0</th>\n",
       "      <td>This is ripe and fruity, a wine that is smooth...</td>\n",
       "      <td>87</td>\n",
       "      <td>15.0</td>\n",
       "      <td>Douro</td>\n",
       "      <td>Portuguese Red</td>\n",
       "    </tr>\n",
       "    <tr>\n",
       "      <th>1</th>\n",
       "      <td>Tart and snappy, the flavors of lime flesh and...</td>\n",
       "      <td>87</td>\n",
       "      <td>14.0</td>\n",
       "      <td>Oregon</td>\n",
       "      <td>Pinot Gris</td>\n",
       "    </tr>\n",
       "    <tr>\n",
       "      <th>2</th>\n",
       "      <td>Much like the regular bottling from 2012, this...</td>\n",
       "      <td>87</td>\n",
       "      <td>65.0</td>\n",
       "      <td>Oregon</td>\n",
       "      <td>Pinot Noir</td>\n",
       "    </tr>\n",
       "    <tr>\n",
       "      <th>3</th>\n",
       "      <td>This dry and restrained wine offers spice in p...</td>\n",
       "      <td>87</td>\n",
       "      <td>24.0</td>\n",
       "      <td>Alsace</td>\n",
       "      <td>Gewürztraminer</td>\n",
       "    </tr>\n",
       "    <tr>\n",
       "      <th>4</th>\n",
       "      <td>Savory dried thyme notes accent sunnier flavor...</td>\n",
       "      <td>87</td>\n",
       "      <td>12.0</td>\n",
       "      <td>Rheinhessen</td>\n",
       "      <td>Gewürztraminer</td>\n",
       "    </tr>\n",
       "  </tbody>\n",
       "</table>\n",
       "</div>"
      ],
      "text/plain": [
       "                                         description  points  price  \\\n",
       "0  This is ripe and fruity, a wine that is smooth...      87   15.0   \n",
       "1  Tart and snappy, the flavors of lime flesh and...      87   14.0   \n",
       "2  Much like the regular bottling from 2012, this...      87   65.0   \n",
       "3  This dry and restrained wine offers spice in p...      87   24.0   \n",
       "4  Savory dried thyme notes accent sunnier flavor...      87   12.0   \n",
       "\n",
       "      province         variety  \n",
       "0        Douro  Portuguese Red  \n",
       "1       Oregon      Pinot Gris  \n",
       "2       Oregon      Pinot Noir  \n",
       "3       Alsace  Gewürztraminer  \n",
       "4  Rheinhessen  Gewürztraminer  "
      ]
     },
     "execution_count": 23,
     "metadata": {},
     "output_type": "execute_result"
    }
   ],
   "source": [
    "df.head()"
   ]
  },
  {
   "cell_type": "code",
   "execution_count": 25,
   "metadata": {},
   "outputs": [
    {
     "name": "stdout",
     "output_type": "stream",
     "text": [
      "The prediction is: [20.73209094]\n"
     ]
    }
   ],
   "source": [
    "new_prediction = {\n",
    "    'points': [87],\n",
    "    'province': ['Douro'],\n",
    "    'variety': ['Gewürztraminer']\n",
    "}\n",
    "\n",
    "df_new_prediction = pd.DataFrame(new_prediction)\n",
    "new_prediction = feature_encoder.transform(df_new_prediction)\n",
    "\n",
    "# Make predictions on the new data\n",
    "the_prediction = rfc.predict(new_prediction)\n",
    "print(f\"The prediction is: {the_prediction}\")"
   ]
  }
 ],
 "metadata": {
  "kernelspec": {
   "display_name": "base",
   "language": "python",
   "name": "python3"
  },
  "language_info": {
   "codemirror_mode": {
    "name": "ipython",
    "version": 3
   },
   "file_extension": ".py",
   "mimetype": "text/x-python",
   "name": "python",
   "nbconvert_exporter": "python",
   "pygments_lexer": "ipython3",
   "version": "3.11.5"
  }
 },
 "nbformat": 4,
 "nbformat_minor": 2
}
